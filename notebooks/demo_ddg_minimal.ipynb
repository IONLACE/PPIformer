{
 "cells": [
  {
   "cell_type": "code",
   "execution_count": 1,
   "metadata": {},
   "outputs": [],
   "source": [
    "%load_ext autoreload\n",
    "%autoreload 2"
   ]
  },
  {
   "cell_type": "code",
   "execution_count": 5,
   "metadata": {},
   "outputs": [],
   "source": [
    "import torch\n",
    "from ppiformer.tasks.node import DDGPPIformer\n",
    "from ppiformer.utils.api import predict_ddg\n",
    "from ppiformer.definitions import PPIFORMER_WEIGHTS_DIR, PPIFORMER_TEST_DATA_DIR"
   ]
  },
  {
   "cell_type": "code",
   "execution_count": 6,
   "metadata": {},
   "outputs": [
    {
     "name": "stderr",
     "output_type": "stream",
     "text": [
      "Process 59170 preparing data: 100%|██████████| 1/1 [00:00<00:00,  7.74it/s]\n"
     ]
    },
    {
     "name": "stdout",
     "output_type": "stream",
     "text": [
      "1 PPIs loaded: PPIInMemoryDataset(, n_muts=1)\n"
     ]
    },
    {
     "data": {
      "text/plain": [
       "tensor([1.0147])"
      ]
     },
     "execution_count": 6,
     "metadata": {},
     "output_type": "execute_result"
    }
   ],
   "source": [
    "# Load models\n",
    "models = [\n",
    "    DDGPPIformer.load_from_checkpoint(\n",
    "        PPIFORMER_WEIGHTS_DIR / f'ddg_regression/{i}.ckpt',\n",
    "        map_location=torch.device('cpu')\n",
    "    ).eval()\n",
    "    for i in range(3)\n",
    "]\n",
    "\n",
    "# Specify input\n",
    "ppi_path = PPIFORMER_TEST_DATA_DIR / '1bui_A_C.pdb'  # PPIRef file (see https://github.com/anton-bushuiev/PPIRef?tab=readme-ov-file#extracting-ppis)\n",
    "muts = ['SC16G,FC47G']  # List of single- or multi-point mutations\n",
    "\n",
    "# Predict\n",
    "ddg = predict_ddg(models, ppi_path, muts)\n",
    "ddg"
   ]
  }
 ],
 "metadata": {
  "kernelspec": {
   "display_name": "ppiformer_u",
   "language": "python",
   "name": "python3"
  },
  "language_info": {
   "codemirror_mode": {
    "name": "ipython",
    "version": 3
   },
   "file_extension": ".py",
   "mimetype": "text/x-python",
   "name": "python",
   "nbconvert_exporter": "python",
   "pygments_lexer": "ipython3",
   "version": "3.9.17"
  },
  "orig_nbformat": 4
 },
 "nbformat": 4,
 "nbformat_minor": 2
}
